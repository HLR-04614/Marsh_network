{
 "cells": [
  {
   "cell_type": "code",
   "execution_count": 1,
   "id": "6be468fc",
   "metadata": {},
   "outputs": [],
   "source": [
    "from pathlib import Path\n",
    "data_folder=Path(\"C:/Users/heather.l.richard/OneDrive - University of Maine System/GIS_Apps/Final_Proj_Richard/Network/\")"
   ]
  },
  {
   "cell_type": "code",
   "execution_count": 2,
   "id": "6e537a9a",
   "metadata": {},
   "outputs": [],
   "source": [
    "import pandas as pd\n",
    "from pyvis.network import Network"
   ]
  },
  {
   "cell_type": "code",
   "execution_count": 10,
   "id": "3ea4fc74",
   "metadata": {},
   "outputs": [],
   "source": [
    "# Load the CSV files\n",
    "df_edges = pd.read_csv('edges2.csv')\n",
    "df_nodes = pd.read_csv('index.csv')"
   ]
  },
  {
   "cell_type": "code",
   "execution_count": 11,
   "id": "2167f17c",
   "metadata": {},
   "outputs": [],
   "source": [
    "# Create a Pyvis network\n",
    "net = Network(height='750px', width='100%', bgcolor='#222222', font_color='white', notebook=True, cdn_resources='remote')"
   ]
  },
  {
   "cell_type": "code",
   "execution_count": 12,
   "id": "18f06311",
   "metadata": {},
   "outputs": [],
   "source": [
    "# Create a dictionary to store the number of edges connected to each node\n",
    "node_edge_count = df_edges['edgeID2'].value_counts().to_dict()"
   ]
  },
  {
   "cell_type": "code",
   "execution_count": 13,
   "id": "5c40e938",
   "metadata": {},
   "outputs": [],
   "source": [
    "# Add nodes with their attributes\n",
    "for _, row in df_nodes.iterrows():\n",
    "    node_id = str(row['edgeID'])\n",
    "    node_label = row['Name']\n",
    "    node_category = row['Type']\n",
    "    node_size = node_edge_count.get(int(node_id), 1)  # Default size is 1 if the node has no edges\n",
    "    node_title = f\"Name: {node_label}<br>Category: {node_category}\"\n",
    "    net.add_node(node_id, label=node_label, title=node_label, group=node_category, size=node_size)"
   ]
  },
  {
   "cell_type": "code",
   "execution_count": 14,
   "id": "ca689a8f",
   "metadata": {},
   "outputs": [],
   "source": [
    "# Add edges\n",
    "for _, row in df_edges.iterrows():\n",
    "    source_node = str(row['edgeID1'])\n",
    "    target_node = str(row['edgeID2'])\n",
    "    net.add_edge(source_node, target_node)"
   ]
  },
  {
   "cell_type": "code",
   "execution_count": 15,
   "id": "eceb83a8",
   "metadata": {},
   "outputs": [
    {
     "name": "stdout",
     "output_type": "stream",
     "text": [
      "network_graph.html\n"
     ]
    },
    {
     "data": {
      "text/html": [
       "\n",
       "        <iframe\n",
       "            width=\"100%\"\n",
       "            height=\"750px\"\n",
       "            src=\"network_graph.html\"\n",
       "            frameborder=\"0\"\n",
       "            allowfullscreen\n",
       "            \n",
       "        ></iframe>\n",
       "        "
      ],
      "text/plain": [
       "<IPython.lib.display.IFrame at 0x243803e3310>"
      ]
     },
     "execution_count": 15,
     "metadata": {},
     "output_type": "execute_result"
    }
   ],
   "source": [
    "# Visualize the network graph\n",
    "net.show('network_graph.html')"
   ]
  },
  {
   "cell_type": "code",
   "execution_count": null,
   "id": "9f357452",
   "metadata": {},
   "outputs": [],
   "source": []
  }
 ],
 "metadata": {
  "kernelspec": {
   "display_name": "Python 3 (ipykernel)",
   "language": "python",
   "name": "python3"
  },
  "language_info": {
   "codemirror_mode": {
    "name": "ipython",
    "version": 3
   },
   "file_extension": ".py",
   "mimetype": "text/x-python",
   "name": "python",
   "nbconvert_exporter": "python",
   "pygments_lexer": "ipython3",
   "version": "3.9.16"
  }
 },
 "nbformat": 4,
 "nbformat_minor": 5
}
