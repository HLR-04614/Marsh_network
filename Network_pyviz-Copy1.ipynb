{
 "cells": [
  {
   "cell_type": "markdown",
   "id": "d6eaa5c2",
   "metadata": {},
   "source": [
    "## Building a Social Network \n",
    "I put together relational tables of organizations, people and projects/working groups which have been or could be useful in my research and future career. I'm going to try to visualize a partial network I put together by hand using pyviz. But first I have to tidy up my network data so there are no repeats, and use the repeated counts of unique pairings as weights. ChatGPT helped me with this code:"
   ]
  },
  {
   "cell_type": "raw",
   "id": "487c2eec",
   "metadata": {},
   "source": [
    "## Import and clean the data"
   ]
  },
  {
   "cell_type": "code",
   "execution_count": 1,
   "id": "7ed93599",
   "metadata": {},
   "outputs": [],
   "source": [
    "from pathlib import Path\n",
    "data_folder=Path(\"https://github.com/HLR-04614/Marsh_network/tree/main/\")\n",
    "edges=data_folder/\"Edges.csv/\"\n",
    "nodes=data_folder/\"Org_Nodes.csv\""
   ]
  },
  {
   "cell_type": "code",
   "execution_count": 2,
   "id": "3ad5da3e",
   "metadata": {},
   "outputs": [],
   "source": [
    "import pandas as pd\n",
    "import numpy as np\n"
   ]
  },
  {
   "cell_type": "code",
   "execution_count": 3,
   "id": "809153e9",
   "metadata": {
    "scrolled": true
   },
   "outputs": [
    {
     "name": "stdout",
     "output_type": "stream",
     "text": [
      "      ID  Node  Target  Weight  ProjectID\n",
      "0      0    31      30     NaN         25\n",
      "1      1    31      21     NaN          4\n",
      "2      2    10      26     NaN         29\n",
      "3      3     1       3     NaN         22\n",
      "4      4     1      34     NaN         22\n",
      "..   ...   ...     ...     ...        ...\n",
      "148  148    32      45     NaN          2\n",
      "149  149     2      36     NaN         18\n",
      "150  150     2      23     NaN         18\n",
      "151  151    36      23     NaN         18\n",
      "152  152     2      36     NaN         19\n",
      "\n",
      "[153 rows x 5 columns]\n"
     ]
    }
   ],
   "source": [
    "edges=pd.read_csv('Edges.csv')\n",
    "print(edges)"
   ]
  },
  {
   "cell_type": "code",
   "execution_count": 4,
   "id": "365a92ea",
   "metadata": {},
   "outputs": [
    {
     "name": "stdout",
     "output_type": "stream",
     "text": [
      "      ID  orgID  Target  Weight  ProjectID\n",
      "0      0     31      30     NaN         25\n",
      "1      1     31      21     NaN          4\n",
      "2      2     10      26     NaN         29\n",
      "3      3      1       3     NaN         22\n",
      "4      4      1      34     NaN         22\n",
      "..   ...    ...     ...     ...        ...\n",
      "148  148     32      45     NaN          2\n",
      "149  149      2      36     NaN         18\n",
      "150  150      2      23     NaN         18\n",
      "151  151     36      23     NaN         18\n",
      "152  152      2      36     NaN         19\n",
      "\n",
      "[153 rows x 5 columns]\n"
     ]
    }
   ],
   "source": [
    "edges = edges.rename(columns={'Node': 'orgID'})\n",
    "\n",
    "print(edges)"
   ]
  },
  {
   "cell_type": "code",
   "execution_count": 5,
   "id": "05c1948b",
   "metadata": {},
   "outputs": [],
   "source": [
    "grouped = edges.groupby(['orgID', 'Target'])"
   ]
  },
  {
   "cell_type": "code",
   "execution_count": 6,
   "id": "88eff18e",
   "metadata": {},
   "outputs": [],
   "source": [
    "weights = grouped.size().reset_index(name='Weight')"
   ]
  },
  {
   "cell_type": "code",
   "execution_count": 7,
   "id": "b7395f5d",
   "metadata": {},
   "outputs": [
    {
     "name": "stdout",
     "output_type": "stream",
     "text": [
      "     orgID  Target  Weight\n",
      "0        1       3       2\n",
      "1        1      10       1\n",
      "2        1      23       1\n",
      "3        1      32       2\n",
      "4        1      34       1\n",
      "..     ...     ...     ...\n",
      "136     43      45       1\n",
      "137     44       3       1\n",
      "138     44      23       1\n",
      "139     44      32       1\n",
      "140     44      45       1\n",
      "\n",
      "[141 rows x 3 columns]\n"
     ]
    }
   ],
   "source": [
    "#  Create a new DataFrame with unique node-target combinations and weights\n",
    "unique_pairs = weights.drop_duplicates(['orgID', 'Target'])\n",
    "\n",
    "#Save the new DataFrame to a CSV file\n",
    "unique_pairs.to_csv('unique_node_target_pairs.csv', index=False)\n",
    "\n",
    "#Print the unique pairs with their corresponding weights\n",
    "print(unique_pairs)"
   ]
  },
  {
   "cell_type": "markdown",
   "id": "03967a5a",
   "metadata": {},
   "source": [
    "## Make the network with pyvis\n",
    "I watched the following video and used the code from this tutorial: https://www.youtube.com/watch?v=PtbnC5qaXpE. The video utilizes Game of Thrones network data, but I'm not sure how the barnes_hut function was sourced."
   ]
  },
  {
   "cell_type": "code",
   "execution_count": 8,
   "id": "65a29821",
   "metadata": {},
   "outputs": [
    {
     "name": "stdout",
     "output_type": "stream",
     "text": [
      "Defaulting to user installation because normal site-packages is not writeable\n",
      "Requirement already satisfied: pyvis in c:\\users\\heather.l.richard\\appdata\\roaming\\python\\python39\\site-packages (0.3.2)\n",
      "Requirement already satisfied: jsonpickle>=1.4.1 in c:\\users\\heather.l.richard\\appdata\\roaming\\python\\python39\\site-packages (from pyvis) (3.0.4)\n",
      "Requirement already satisfied: jinja2>=2.9.6 in c:\\program files\\arcgis\\pro\\bin\\python\\envs\\arcgispro-py3\\lib\\site-packages (from pyvis) (3.0.3)\n",
      "Requirement already satisfied: networkx>=1.11 in c:\\program files\\arcgis\\pro\\bin\\python\\envs\\arcgispro-py3\\lib\\site-packages (from pyvis) (2.8.4)\n",
      "Requirement already satisfied: ipython>=5.3.0 in c:\\program files\\arcgis\\pro\\bin\\python\\envs\\arcgispro-py3\\lib\\site-packages (from pyvis) (7.34.0)\n",
      "Requirement already satisfied: decorator in c:\\program files\\arcgis\\pro\\bin\\python\\envs\\arcgispro-py3\\lib\\site-packages (from ipython>=5.3.0->pyvis) (5.1.1)\n",
      "Requirement already satisfied: traitlets>=4.2 in c:\\program files\\arcgis\\pro\\bin\\python\\envs\\arcgispro-py3\\lib\\site-packages (from ipython>=5.3.0->pyvis) (5.5.0)\n",
      "Requirement already satisfied: matplotlib-inline in c:\\program files\\arcgis\\pro\\bin\\python\\envs\\arcgispro-py3\\lib\\site-packages (from ipython>=5.3.0->pyvis) (0.1.6)\n",
      "Requirement already satisfied: pygments in c:\\program files\\arcgis\\pro\\bin\\python\\envs\\arcgispro-py3\\lib\\site-packages (from ipython>=5.3.0->pyvis) (2.9.0)\n",
      "Requirement already satisfied: setuptools>=18.5 in c:\\program files\\arcgis\\pro\\bin\\python\\envs\\arcgispro-py3\\lib\\site-packages (from ipython>=5.3.0->pyvis) (65.5.1)\n",
      "Requirement already satisfied: colorama in c:\\program files\\arcgis\\pro\\bin\\python\\envs\\arcgispro-py3\\lib\\site-packages (from ipython>=5.3.0->pyvis) (0.4.5)\n",
      "Requirement already satisfied: backcall in c:\\program files\\arcgis\\pro\\bin\\python\\envs\\arcgispro-py3\\lib\\site-packages (from ipython>=5.3.0->pyvis) (0.2.0)\n",
      "Requirement already satisfied: jedi>=0.16 in c:\\program files\\arcgis\\pro\\bin\\python\\envs\\arcgispro-py3\\lib\\site-packages\\jedi-0.18.2-py3.9.egg (from ipython>=5.3.0->pyvis) (0.18.2)\n",
      "Requirement already satisfied: pickleshare in c:\\program files\\arcgis\\pro\\bin\\python\\envs\\arcgispro-py3\\lib\\site-packages (from ipython>=5.3.0->pyvis) (0.7.5)\n",
      "Requirement already satisfied: prompt-toolkit!=3.0.0,!=3.0.1,<3.1.0,>=2.0.0 in c:\\program files\\arcgis\\pro\\bin\\python\\envs\\arcgispro-py3\\lib\\site-packages (from ipython>=5.3.0->pyvis) (3.0.5)\n",
      "Requirement already satisfied: MarkupSafe>=2.0 in c:\\program files\\arcgis\\pro\\bin\\python\\envs\\arcgispro-py3\\lib\\site-packages (from jinja2>=2.9.6->pyvis) (2.1.1)\n",
      "Requirement already satisfied: parso<0.9.0,>=0.8.0 in c:\\program files\\arcgis\\pro\\bin\\python\\envs\\arcgispro-py3\\lib\\site-packages (from jedi>=0.16->ipython>=5.3.0->pyvis) (0.8.3)\n",
      "Requirement already satisfied: wcwidth in c:\\program files\\arcgis\\pro\\bin\\python\\envs\\arcgispro-py3\\lib\\site-packages (from prompt-toolkit!=3.0.0,!=3.0.1,<3.1.0,>=2.0.0->ipython>=5.3.0->pyvis) (0.2.5)\n"
     ]
    }
   ],
   "source": [
    "!pip install pyvis"
   ]
  },
  {
   "cell_type": "code",
   "execution_count": 9,
   "id": "25bd874c",
   "metadata": {},
   "outputs": [],
   "source": [
    "from pyvis.network import Network\n",
    "import networkx as nx"
   ]
  },
  {
   "cell_type": "code",
   "execution_count": 10,
   "id": "428a8e44",
   "metadata": {},
   "outputs": [
    {
     "name": "stdout",
     "output_type": "stream",
     "text": [
      "    orgID                                               Name  Lat  Long  \\\n",
      "0       1                         Maine Coast Heritage Trust  NaN   NaN   \n",
      "1       2                         University of Maine, Orono  NaN   NaN   \n",
      "2       3                                         Wells NERR  NaN   NaN   \n",
      "3       4                        University of New Hampshire  NaN   NaN   \n",
      "4       5                                      Bates College  NaN   NaN   \n",
      "5       6                                               KELT  NaN   NaN   \n",
      "6       7               University of Massachusetts, Amherst  NaN   NaN   \n",
      "7       8                                            Bigelow  NaN   NaN   \n",
      "8       9                       University of Southern Maine  NaN   NaN   \n",
      "9      10                                               USGS  NaN   NaN   \n",
      "10     11                                     Boston College  NaN   NaN   \n",
      "11     12                               Northeastern College  NaN   NaN   \n",
      "12     13                          University of New England  NaN   NaN   \n",
      "13     14                       Friends of Scarborough Marsh  NaN   NaN   \n",
      "14     15                              Smithsonian Institute  NaN   NaN   \n",
      "15     16                     San Francisco State University  NaN   NaN   \n",
      "16     17               Maine Department of Marine Resources  NaN   NaN   \n",
      "17     18                                   Island Institute  NaN   NaN   \n",
      "18     19                               US Fish and Wildlife  NaN   NaN   \n",
      "19     20                              Maine Coastal Program  NaN   NaN   \n",
      "20     21                        Restore America's Estuaries  NaN   NaN   \n",
      "21     22                       US Department of Agriculture  NaN   NaN   \n",
      "22     23                                               NOAA  NaN   NaN   \n",
      "23     24                                  Acadia University  NaN   NaN   \n",
      "24     25                           University of Conneticut  NaN   NaN   \n",
      "25     26       Woods Hole Coastal and Marine Science Center  NaN   NaN   \n",
      "26     27               University of Southern Maine, Gorham  NaN   NaN   \n",
      "27     28                     Maine House of Representatives  NaN   NaN   \n",
      "28     29                    Environmental Protection Agency  NaN   NaN   \n",
      "29     30                    San Francisco Estuary Institute  NaN   NaN   \n",
      "30     31                              Pew Charitable Trusts  NaN   NaN   \n",
      "31     32                        Maine Natural Areas Program  NaN   NaN   \n",
      "32     33  Maine Department of Agriculture, Conservation ...  NaN   NaN   \n",
      "33     34                      Casco Bay Estuary Partnership  NaN   NaN   \n",
      "34     35                            Maine Geological Survey  NaN   NaN   \n",
      "35     36                                    Maine Sea Grant  NaN   NaN   \n",
      "36     37   Southern Maine Planning & Development Commission  NaN   NaN   \n",
      "37     38                             The Nature Conservancy  NaN   NaN   \n",
      "38     39        USFW Rachel Carson National Wildlife Refuge  NaN   NaN   \n",
      "39     40                                           VIEWSHED  NaN   NaN   \n",
      "40     41                                     Great Bay NERR  NaN   NaN   \n",
      "41     42                 Maine Department of Transportation  NaN   NaN   \n",
      "42     43                               Midcoast Conservancy  NaN   NaN   \n",
      "43     44                       US Fish and Wildlife Service  NaN   NaN   \n",
      "44     45          New Hampshire Department of Fish and Game  NaN   NaN   \n",
      "45     46                                   Waquoit Bay NERR  NaN   NaN   \n",
      "46     47                      Silvestrum Climate Associates  NaN   NaN   \n",
      "47     48                                               NASA  NaN   NaN   \n",
      "48     49                                              Vesta  NaN   NaN   \n",
      "\n",
      "              Type  Parent OrgID  \n",
      "0       Non-profit           NaN  \n",
      "1       University           NaN  \n",
      "2       Government           NaN  \n",
      "3       University           NaN  \n",
      "4       University           NaN  \n",
      "5       Non-profit           NaN  \n",
      "6       University           NaN  \n",
      "7       Non-profit           NaN  \n",
      "8       University           NaN  \n",
      "9       Government           NaN  \n",
      "10      University           NaN  \n",
      "11      University           NaN  \n",
      "12      University           NaN  \n",
      "13      Non-profit           NaN  \n",
      "14   Federal Trust           NaN  \n",
      "15      University           NaN  \n",
      "16      Government           NaN  \n",
      "17      Non-profit           NaN  \n",
      "18      Government           NaN  \n",
      "19      Government           NaN  \n",
      "20      Non-profit           NaN  \n",
      "21      Government           NaN  \n",
      "22      Government           NaN  \n",
      "23      University           NaN  \n",
      "24      University           NaN  \n",
      "25      University          10.0  \n",
      "26      University           NaN  \n",
      "27      Government           NaN  \n",
      "28      Government           NaN  \n",
      "29      Non-Profit           NaN  \n",
      "30      Non-Profit          33.0  \n",
      "31      Government           NaN  \n",
      "32      Government           NaN  \n",
      "33      Non-profit           NaN  \n",
      "34      Government           NaN  \n",
      "35      University           NaN  \n",
      "36      Government           NaN  \n",
      "37      Non-profit           NaN  \n",
      "38      Government           NaN  \n",
      "39        Business           NaN  \n",
      "40      Government           NaN  \n",
      "41      Government           NaN  \n",
      "42      Non-profit           NaN  \n",
      "43      Government           NaN  \n",
      "44      Government           NaN  \n",
      "45      Government           NaN  \n",
      "46             LLC           NaN  \n",
      "47      Government           NaN  \n",
      "48  Public Benefit           NaN  \n"
     ]
    }
   ],
   "source": [
    "node_data=pd.read_csv('Org_Nodes.csv')\n",
    "print(node_data)"
   ]
  },
  {
   "cell_type": "code",
   "execution_count": 11,
   "id": "89ee4784",
   "metadata": {},
   "outputs": [],
   "source": [
    "org_net = Network(height='750px', width='100%', bgcolor='#222222', font_color='white', notebook=True, cdn_resources='remote')"
   ]
  },
  {
   "cell_type": "code",
   "execution_count": 12,
   "id": "d825171e",
   "metadata": {},
   "outputs": [],
   "source": [
    "org_net.barnes_hut()"
   ]
  },
  {
   "cell_type": "code",
   "execution_count": 13,
   "id": "eda3b9e6",
   "metadata": {},
   "outputs": [],
   "source": [
    "nodes=list(set([*unique_pairs.orgID,*unique_pairs.Target]))\n",
    "edges=unique_pairs.values.tolist()\n",
    "org_net.add_nodes(nodes)\n",
    "org_net.add_edges(edges)"
   ]
  },
  {
   "cell_type": "code",
   "execution_count": 14,
   "id": "be82a19e",
   "metadata": {
    "scrolled": true
   },
   "outputs": [
    {
     "name": "stdout",
     "output_type": "stream",
     "text": [
      "network.html\n"
     ]
    },
    {
     "data": {
      "text/html": [
       "\n",
       "        <iframe\n",
       "            width=\"100%\"\n",
       "            height=\"750px\"\n",
       "            src=\"network.html\"\n",
       "            frameborder=\"0\"\n",
       "            allowfullscreen\n",
       "            \n",
       "        ></iframe>\n",
       "        "
      ],
      "text/plain": [
       "<IPython.lib.display.IFrame at 0x1d125144bb0>"
      ]
     },
     "execution_count": 14,
     "metadata": {},
     "output_type": "execute_result"
    }
   ],
   "source": [
    "org_net.show('network.html')"
   ]
  },
  {
   "cell_type": "code",
   "execution_count": 15,
   "id": "54a52aa5",
   "metadata": {},
   "outputs": [
    {
     "data": {
      "text/html": [
       "BlueCarbonNetwork.html"
      ],
      "text/plain": [
       "<IPython.core.display.HTML object>"
      ]
     },
     "metadata": {},
     "output_type": "display_data"
    }
   ],
   "source": [
    "#Display to visualize the central characters and how they are all connected. \n",
    "\n",
    "from IPython.core.display import display, HTML\n",
    "display(HTML(\"BlueCarbonNetwork.html\"))"
   ]
  },
  {
   "cell_type": "markdown",
   "id": "ba424411",
   "metadata": {},
   "source": [
    "Resources to do more analysis later on:\n",
    "https://ericmjl.github.io/Network-Analysis-Made-Simple/05-casestudies/01-gameofthrones/\n"
   ]
  }
 ],
 "metadata": {
  "kernelspec": {
   "display_name": "Python 3 (ipykernel)",
   "language": "python",
   "name": "python3"
  },
  "language_info": {
   "codemirror_mode": {
    "name": "ipython",
    "version": 3
   },
   "file_extension": ".py",
   "mimetype": "text/x-python",
   "name": "python",
   "nbconvert_exporter": "python",
   "pygments_lexer": "ipython3",
   "version": "3.9.16"
  }
 },
 "nbformat": 4,
 "nbformat_minor": 5
}
